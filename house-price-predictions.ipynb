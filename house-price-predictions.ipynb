{
 "cells": [
  {
   "cell_type": "markdown",
   "id": "e61dbc24",
   "metadata": {
    "papermill": {
     "duration": 0.008416,
     "end_time": "2025-05-03T15:04:02.040952",
     "exception": false,
     "start_time": "2025-05-03T15:04:02.032536",
     "status": "completed"
    },
    "tags": []
   },
   "source": [
    "# Introduction\n",
    "\n",
    "This notebook is an end-to-end data science process for predicting house price. This uses the Kaggle House Prices dataseet."
   ]
  },
  {
   "cell_type": "code",
   "execution_count": 1,
   "id": "ec1c1fd3",
   "metadata": {
    "_cell_guid": "b1076dfc-b9ad-4769-8c92-a6c4dae69d19",
    "_uuid": "8f2839f25d086af736a60e9eeb907d3b93b6e0e5",
    "execution": {
     "iopub.execute_input": "2025-05-03T15:04:02.055832Z",
     "iopub.status.busy": "2025-05-03T15:04:02.055464Z",
     "iopub.status.idle": "2025-05-03T15:04:04.713362Z",
     "shell.execute_reply": "2025-05-03T15:04:04.712159Z"
    },
    "papermill": {
     "duration": 2.667242,
     "end_time": "2025-05-03T15:04:04.715121",
     "exception": false,
     "start_time": "2025-05-03T15:04:02.047879",
     "status": "completed"
    },
    "tags": []
   },
   "outputs": [
    {
     "name": "stdout",
     "output_type": "stream",
     "text": [
      "/kaggle/input/home-data-for-ml-course/sample_submission.csv\n",
      "/kaggle/input/home-data-for-ml-course/sample_submission.csv.gz\n",
      "/kaggle/input/home-data-for-ml-course/train.csv.gz\n",
      "/kaggle/input/home-data-for-ml-course/data_description.txt\n",
      "/kaggle/input/home-data-for-ml-course/test.csv.gz\n",
      "/kaggle/input/home-data-for-ml-course/train.csv\n",
      "/kaggle/input/home-data-for-ml-course/test.csv\n"
     ]
    }
   ],
   "source": [
    "import numpy as np \n",
    "import pandas as pd \n",
    "import seaborn as sns\n",
    "\n",
    "\n",
    "# Input data files are available in the read-only \"../input/\" directory\n",
    "# For example, running this (by clicking run or pressing Shift+Enter) will list all files under the input directory\n",
    "\n",
    "import os\n",
    "for dirname, _, filenames in os.walk('/kaggle/input'):\n",
    "    for filename in filenames:\n",
    "        print(os.path.join(dirname, filename))"
   ]
  },
  {
   "cell_type": "code",
   "execution_count": 2,
   "id": "396a4cd3",
   "metadata": {
    "execution": {
     "iopub.execute_input": "2025-05-03T15:04:04.730155Z",
     "iopub.status.busy": "2025-05-03T15:04:04.729669Z",
     "iopub.status.idle": "2025-05-03T15:04:05.125845Z",
     "shell.execute_reply": "2025-05-03T15:04:05.124725Z"
    },
    "papermill": {
     "duration": 0.405742,
     "end_time": "2025-05-03T15:04:05.127835",
     "exception": false,
     "start_time": "2025-05-03T15:04:04.722093",
     "status": "completed"
    },
    "tags": []
   },
   "outputs": [],
   "source": [
    "from sklearn.model_selection import train_test_split\n",
    "from sklearn.linear_model import LinearRegression\n",
    "from sklearn.metrics import mean_squared_error, r2_score\n",
    "from sklearn.preprocessing import StandardScaler\n",
    "from sklearn.metrics import mean_absolute_error\n",
    "from sklearn.linear_model import SGDRegressor\n",
    "import matplotlib.pyplot as plt\n"
   ]
  },
  {
   "cell_type": "code",
   "execution_count": 3,
   "id": "01db19ba",
   "metadata": {
    "execution": {
     "iopub.execute_input": "2025-05-03T15:04:05.143093Z",
     "iopub.status.busy": "2025-05-03T15:04:05.142684Z",
     "iopub.status.idle": "2025-05-03T15:04:05.200859Z",
     "shell.execute_reply": "2025-05-03T15:04:05.199640Z"
    },
    "papermill": {
     "duration": 0.067634,
     "end_time": "2025-05-03T15:04:05.202741",
     "exception": false,
     "start_time": "2025-05-03T15:04:05.135107",
     "status": "completed"
    },
    "tags": []
   },
   "outputs": [],
   "source": [
    "# Read in the data \n",
    "df = pd.read_csv('/kaggle/input/home-data-for-ml-course/train.csv',index_col = 'Id')"
   ]
  },
  {
   "cell_type": "markdown",
   "id": "ebe5640c",
   "metadata": {
    "papermill": {
     "duration": 0.006859,
     "end_time": "2025-05-03T15:04:05.216992",
     "exception": false,
     "start_time": "2025-05-03T15:04:05.210133",
     "status": "completed"
    },
    "tags": []
   },
   "source": [
    "# Exploratory Data Analysis"
   ]
  },
  {
   "cell_type": "code",
   "execution_count": 4,
   "id": "d04579d0",
   "metadata": {
    "execution": {
     "iopub.execute_input": "2025-05-03T15:04:05.231921Z",
     "iopub.status.busy": "2025-05-03T15:04:05.231593Z",
     "iopub.status.idle": "2025-05-03T15:04:05.321457Z",
     "shell.execute_reply": "2025-05-03T15:04:05.320155Z"
    },
    "papermill": {
     "duration": 0.09953,
     "end_time": "2025-05-03T15:04:05.323355",
     "exception": false,
     "start_time": "2025-05-03T15:04:05.223825",
     "status": "completed"
    },
    "tags": []
   },
   "outputs": [
    {
     "data": {
      "text/html": [
       "<div>\n",
       "<style scoped>\n",
       "    .dataframe tbody tr th:only-of-type {\n",
       "        vertical-align: middle;\n",
       "    }\n",
       "\n",
       "    .dataframe tbody tr th {\n",
       "        vertical-align: top;\n",
       "    }\n",
       "\n",
       "    .dataframe thead th {\n",
       "        text-align: right;\n",
       "    }\n",
       "</style>\n",
       "<table border=\"1\" class=\"dataframe\">\n",
       "  <thead>\n",
       "    <tr style=\"text-align: right;\">\n",
       "      <th></th>\n",
       "      <th>MSSubClass</th>\n",
       "      <th>LotFrontage</th>\n",
       "      <th>LotArea</th>\n",
       "      <th>OverallQual</th>\n",
       "      <th>OverallCond</th>\n",
       "      <th>YearBuilt</th>\n",
       "      <th>YearRemodAdd</th>\n",
       "      <th>MasVnrArea</th>\n",
       "      <th>BsmtFinSF1</th>\n",
       "      <th>BsmtFinSF2</th>\n",
       "      <th>...</th>\n",
       "      <th>WoodDeckSF</th>\n",
       "      <th>OpenPorchSF</th>\n",
       "      <th>EnclosedPorch</th>\n",
       "      <th>3SsnPorch</th>\n",
       "      <th>ScreenPorch</th>\n",
       "      <th>PoolArea</th>\n",
       "      <th>MiscVal</th>\n",
       "      <th>MoSold</th>\n",
       "      <th>YrSold</th>\n",
       "      <th>SalePrice</th>\n",
       "    </tr>\n",
       "  </thead>\n",
       "  <tbody>\n",
       "    <tr>\n",
       "      <th>count</th>\n",
       "      <td>1460.000000</td>\n",
       "      <td>1201.000000</td>\n",
       "      <td>1460.000000</td>\n",
       "      <td>1460.000000</td>\n",
       "      <td>1460.000000</td>\n",
       "      <td>1460.000000</td>\n",
       "      <td>1460.000000</td>\n",
       "      <td>1452.000000</td>\n",
       "      <td>1460.000000</td>\n",
       "      <td>1460.000000</td>\n",
       "      <td>...</td>\n",
       "      <td>1460.000000</td>\n",
       "      <td>1460.000000</td>\n",
       "      <td>1460.000000</td>\n",
       "      <td>1460.000000</td>\n",
       "      <td>1460.000000</td>\n",
       "      <td>1460.000000</td>\n",
       "      <td>1460.000000</td>\n",
       "      <td>1460.000000</td>\n",
       "      <td>1460.000000</td>\n",
       "      <td>1460.000000</td>\n",
       "    </tr>\n",
       "    <tr>\n",
       "      <th>mean</th>\n",
       "      <td>56.897260</td>\n",
       "      <td>70.049958</td>\n",
       "      <td>10516.828082</td>\n",
       "      <td>6.099315</td>\n",
       "      <td>5.575342</td>\n",
       "      <td>1971.267808</td>\n",
       "      <td>1984.865753</td>\n",
       "      <td>103.685262</td>\n",
       "      <td>443.639726</td>\n",
       "      <td>46.549315</td>\n",
       "      <td>...</td>\n",
       "      <td>94.244521</td>\n",
       "      <td>46.660274</td>\n",
       "      <td>21.954110</td>\n",
       "      <td>3.409589</td>\n",
       "      <td>15.060959</td>\n",
       "      <td>2.758904</td>\n",
       "      <td>43.489041</td>\n",
       "      <td>6.321918</td>\n",
       "      <td>2007.815753</td>\n",
       "      <td>180921.195890</td>\n",
       "    </tr>\n",
       "    <tr>\n",
       "      <th>std</th>\n",
       "      <td>42.300571</td>\n",
       "      <td>24.284752</td>\n",
       "      <td>9981.264932</td>\n",
       "      <td>1.382997</td>\n",
       "      <td>1.112799</td>\n",
       "      <td>30.202904</td>\n",
       "      <td>20.645407</td>\n",
       "      <td>181.066207</td>\n",
       "      <td>456.098091</td>\n",
       "      <td>161.319273</td>\n",
       "      <td>...</td>\n",
       "      <td>125.338794</td>\n",
       "      <td>66.256028</td>\n",
       "      <td>61.119149</td>\n",
       "      <td>29.317331</td>\n",
       "      <td>55.757415</td>\n",
       "      <td>40.177307</td>\n",
       "      <td>496.123024</td>\n",
       "      <td>2.703626</td>\n",
       "      <td>1.328095</td>\n",
       "      <td>79442.502883</td>\n",
       "    </tr>\n",
       "    <tr>\n",
       "      <th>min</th>\n",
       "      <td>20.000000</td>\n",
       "      <td>21.000000</td>\n",
       "      <td>1300.000000</td>\n",
       "      <td>1.000000</td>\n",
       "      <td>1.000000</td>\n",
       "      <td>1872.000000</td>\n",
       "      <td>1950.000000</td>\n",
       "      <td>0.000000</td>\n",
       "      <td>0.000000</td>\n",
       "      <td>0.000000</td>\n",
       "      <td>...</td>\n",
       "      <td>0.000000</td>\n",
       "      <td>0.000000</td>\n",
       "      <td>0.000000</td>\n",
       "      <td>0.000000</td>\n",
       "      <td>0.000000</td>\n",
       "      <td>0.000000</td>\n",
       "      <td>0.000000</td>\n",
       "      <td>1.000000</td>\n",
       "      <td>2006.000000</td>\n",
       "      <td>34900.000000</td>\n",
       "    </tr>\n",
       "    <tr>\n",
       "      <th>25%</th>\n",
       "      <td>20.000000</td>\n",
       "      <td>59.000000</td>\n",
       "      <td>7553.500000</td>\n",
       "      <td>5.000000</td>\n",
       "      <td>5.000000</td>\n",
       "      <td>1954.000000</td>\n",
       "      <td>1967.000000</td>\n",
       "      <td>0.000000</td>\n",
       "      <td>0.000000</td>\n",
       "      <td>0.000000</td>\n",
       "      <td>...</td>\n",
       "      <td>0.000000</td>\n",
       "      <td>0.000000</td>\n",
       "      <td>0.000000</td>\n",
       "      <td>0.000000</td>\n",
       "      <td>0.000000</td>\n",
       "      <td>0.000000</td>\n",
       "      <td>0.000000</td>\n",
       "      <td>5.000000</td>\n",
       "      <td>2007.000000</td>\n",
       "      <td>129975.000000</td>\n",
       "    </tr>\n",
       "    <tr>\n",
       "      <th>50%</th>\n",
       "      <td>50.000000</td>\n",
       "      <td>69.000000</td>\n",
       "      <td>9478.500000</td>\n",
       "      <td>6.000000</td>\n",
       "      <td>5.000000</td>\n",
       "      <td>1973.000000</td>\n",
       "      <td>1994.000000</td>\n",
       "      <td>0.000000</td>\n",
       "      <td>383.500000</td>\n",
       "      <td>0.000000</td>\n",
       "      <td>...</td>\n",
       "      <td>0.000000</td>\n",
       "      <td>25.000000</td>\n",
       "      <td>0.000000</td>\n",
       "      <td>0.000000</td>\n",
       "      <td>0.000000</td>\n",
       "      <td>0.000000</td>\n",
       "      <td>0.000000</td>\n",
       "      <td>6.000000</td>\n",
       "      <td>2008.000000</td>\n",
       "      <td>163000.000000</td>\n",
       "    </tr>\n",
       "    <tr>\n",
       "      <th>75%</th>\n",
       "      <td>70.000000</td>\n",
       "      <td>80.000000</td>\n",
       "      <td>11601.500000</td>\n",
       "      <td>7.000000</td>\n",
       "      <td>6.000000</td>\n",
       "      <td>2000.000000</td>\n",
       "      <td>2004.000000</td>\n",
       "      <td>166.000000</td>\n",
       "      <td>712.250000</td>\n",
       "      <td>0.000000</td>\n",
       "      <td>...</td>\n",
       "      <td>168.000000</td>\n",
       "      <td>68.000000</td>\n",
       "      <td>0.000000</td>\n",
       "      <td>0.000000</td>\n",
       "      <td>0.000000</td>\n",
       "      <td>0.000000</td>\n",
       "      <td>0.000000</td>\n",
       "      <td>8.000000</td>\n",
       "      <td>2009.000000</td>\n",
       "      <td>214000.000000</td>\n",
       "    </tr>\n",
       "    <tr>\n",
       "      <th>max</th>\n",
       "      <td>190.000000</td>\n",
       "      <td>313.000000</td>\n",
       "      <td>215245.000000</td>\n",
       "      <td>10.000000</td>\n",
       "      <td>9.000000</td>\n",
       "      <td>2010.000000</td>\n",
       "      <td>2010.000000</td>\n",
       "      <td>1600.000000</td>\n",
       "      <td>5644.000000</td>\n",
       "      <td>1474.000000</td>\n",
       "      <td>...</td>\n",
       "      <td>857.000000</td>\n",
       "      <td>547.000000</td>\n",
       "      <td>552.000000</td>\n",
       "      <td>508.000000</td>\n",
       "      <td>480.000000</td>\n",
       "      <td>738.000000</td>\n",
       "      <td>15500.000000</td>\n",
       "      <td>12.000000</td>\n",
       "      <td>2010.000000</td>\n",
       "      <td>755000.000000</td>\n",
       "    </tr>\n",
       "  </tbody>\n",
       "</table>\n",
       "<p>8 rows × 37 columns</p>\n",
       "</div>"
      ],
      "text/plain": [
       "        MSSubClass  LotFrontage        LotArea  OverallQual  OverallCond  \\\n",
       "count  1460.000000  1201.000000    1460.000000  1460.000000  1460.000000   \n",
       "mean     56.897260    70.049958   10516.828082     6.099315     5.575342   \n",
       "std      42.300571    24.284752    9981.264932     1.382997     1.112799   \n",
       "min      20.000000    21.000000    1300.000000     1.000000     1.000000   \n",
       "25%      20.000000    59.000000    7553.500000     5.000000     5.000000   \n",
       "50%      50.000000    69.000000    9478.500000     6.000000     5.000000   \n",
       "75%      70.000000    80.000000   11601.500000     7.000000     6.000000   \n",
       "max     190.000000   313.000000  215245.000000    10.000000     9.000000   \n",
       "\n",
       "         YearBuilt  YearRemodAdd   MasVnrArea   BsmtFinSF1   BsmtFinSF2  ...  \\\n",
       "count  1460.000000   1460.000000  1452.000000  1460.000000  1460.000000  ...   \n",
       "mean   1971.267808   1984.865753   103.685262   443.639726    46.549315  ...   \n",
       "std      30.202904     20.645407   181.066207   456.098091   161.319273  ...   \n",
       "min    1872.000000   1950.000000     0.000000     0.000000     0.000000  ...   \n",
       "25%    1954.000000   1967.000000     0.000000     0.000000     0.000000  ...   \n",
       "50%    1973.000000   1994.000000     0.000000   383.500000     0.000000  ...   \n",
       "75%    2000.000000   2004.000000   166.000000   712.250000     0.000000  ...   \n",
       "max    2010.000000   2010.000000  1600.000000  5644.000000  1474.000000  ...   \n",
       "\n",
       "        WoodDeckSF  OpenPorchSF  EnclosedPorch    3SsnPorch  ScreenPorch  \\\n",
       "count  1460.000000  1460.000000    1460.000000  1460.000000  1460.000000   \n",
       "mean     94.244521    46.660274      21.954110     3.409589    15.060959   \n",
       "std     125.338794    66.256028      61.119149    29.317331    55.757415   \n",
       "min       0.000000     0.000000       0.000000     0.000000     0.000000   \n",
       "25%       0.000000     0.000000       0.000000     0.000000     0.000000   \n",
       "50%       0.000000    25.000000       0.000000     0.000000     0.000000   \n",
       "75%     168.000000    68.000000       0.000000     0.000000     0.000000   \n",
       "max     857.000000   547.000000     552.000000   508.000000   480.000000   \n",
       "\n",
       "          PoolArea       MiscVal       MoSold       YrSold      SalePrice  \n",
       "count  1460.000000   1460.000000  1460.000000  1460.000000    1460.000000  \n",
       "mean      2.758904     43.489041     6.321918  2007.815753  180921.195890  \n",
       "std      40.177307    496.123024     2.703626     1.328095   79442.502883  \n",
       "min       0.000000      0.000000     1.000000  2006.000000   34900.000000  \n",
       "25%       0.000000      0.000000     5.000000  2007.000000  129975.000000  \n",
       "50%       0.000000      0.000000     6.000000  2008.000000  163000.000000  \n",
       "75%       0.000000      0.000000     8.000000  2009.000000  214000.000000  \n",
       "max     738.000000  15500.000000    12.000000  2010.000000  755000.000000  \n",
       "\n",
       "[8 rows x 37 columns]"
      ]
     },
     "execution_count": 4,
     "metadata": {},
     "output_type": "execute_result"
    }
   ],
   "source": [
    "df.describe()\n",
    "\n",
    "# The dataframe has 1460 rows and 80 columns, with SalePrice being the target variable (supervised learning)."
   ]
  },
  {
   "cell_type": "code",
   "execution_count": 5,
   "id": "fded0eda",
   "metadata": {
    "execution": {
     "iopub.execute_input": "2025-05-03T15:04:05.339530Z",
     "iopub.status.busy": "2025-05-03T15:04:05.339148Z",
     "iopub.status.idle": "2025-05-03T15:04:05.360720Z",
     "shell.execute_reply": "2025-05-03T15:04:05.359743Z"
    },
    "papermill": {
     "duration": 0.031468,
     "end_time": "2025-05-03T15:04:05.362356",
     "exception": false,
     "start_time": "2025-05-03T15:04:05.330888",
     "status": "completed"
    },
    "tags": []
   },
   "outputs": [
    {
     "data": {
      "text/html": [
       "<div>\n",
       "<style scoped>\n",
       "    .dataframe tbody tr th:only-of-type {\n",
       "        vertical-align: middle;\n",
       "    }\n",
       "\n",
       "    .dataframe tbody tr th {\n",
       "        vertical-align: top;\n",
       "    }\n",
       "\n",
       "    .dataframe thead th {\n",
       "        text-align: right;\n",
       "    }\n",
       "</style>\n",
       "<table border=\"1\" class=\"dataframe\">\n",
       "  <thead>\n",
       "    <tr style=\"text-align: right;\">\n",
       "      <th></th>\n",
       "      <th>MSSubClass</th>\n",
       "      <th>MSZoning</th>\n",
       "      <th>LotFrontage</th>\n",
       "      <th>LotArea</th>\n",
       "      <th>Street</th>\n",
       "      <th>Alley</th>\n",
       "      <th>LotShape</th>\n",
       "      <th>LandContour</th>\n",
       "      <th>Utilities</th>\n",
       "      <th>LotConfig</th>\n",
       "      <th>...</th>\n",
       "      <th>PoolArea</th>\n",
       "      <th>PoolQC</th>\n",
       "      <th>Fence</th>\n",
       "      <th>MiscFeature</th>\n",
       "      <th>MiscVal</th>\n",
       "      <th>MoSold</th>\n",
       "      <th>YrSold</th>\n",
       "      <th>SaleType</th>\n",
       "      <th>SaleCondition</th>\n",
       "      <th>SalePrice</th>\n",
       "    </tr>\n",
       "    <tr>\n",
       "      <th>Id</th>\n",
       "      <th></th>\n",
       "      <th></th>\n",
       "      <th></th>\n",
       "      <th></th>\n",
       "      <th></th>\n",
       "      <th></th>\n",
       "      <th></th>\n",
       "      <th></th>\n",
       "      <th></th>\n",
       "      <th></th>\n",
       "      <th></th>\n",
       "      <th></th>\n",
       "      <th></th>\n",
       "      <th></th>\n",
       "      <th></th>\n",
       "      <th></th>\n",
       "      <th></th>\n",
       "      <th></th>\n",
       "      <th></th>\n",
       "      <th></th>\n",
       "      <th></th>\n",
       "    </tr>\n",
       "  </thead>\n",
       "  <tbody>\n",
       "    <tr>\n",
       "      <th>1</th>\n",
       "      <td>60</td>\n",
       "      <td>RL</td>\n",
       "      <td>65.0</td>\n",
       "      <td>8450</td>\n",
       "      <td>Pave</td>\n",
       "      <td>NaN</td>\n",
       "      <td>Reg</td>\n",
       "      <td>Lvl</td>\n",
       "      <td>AllPub</td>\n",
       "      <td>Inside</td>\n",
       "      <td>...</td>\n",
       "      <td>0</td>\n",
       "      <td>NaN</td>\n",
       "      <td>NaN</td>\n",
       "      <td>NaN</td>\n",
       "      <td>0</td>\n",
       "      <td>2</td>\n",
       "      <td>2008</td>\n",
       "      <td>WD</td>\n",
       "      <td>Normal</td>\n",
       "      <td>208500</td>\n",
       "    </tr>\n",
       "    <tr>\n",
       "      <th>2</th>\n",
       "      <td>20</td>\n",
       "      <td>RL</td>\n",
       "      <td>80.0</td>\n",
       "      <td>9600</td>\n",
       "      <td>Pave</td>\n",
       "      <td>NaN</td>\n",
       "      <td>Reg</td>\n",
       "      <td>Lvl</td>\n",
       "      <td>AllPub</td>\n",
       "      <td>FR2</td>\n",
       "      <td>...</td>\n",
       "      <td>0</td>\n",
       "      <td>NaN</td>\n",
       "      <td>NaN</td>\n",
       "      <td>NaN</td>\n",
       "      <td>0</td>\n",
       "      <td>5</td>\n",
       "      <td>2007</td>\n",
       "      <td>WD</td>\n",
       "      <td>Normal</td>\n",
       "      <td>181500</td>\n",
       "    </tr>\n",
       "    <tr>\n",
       "      <th>3</th>\n",
       "      <td>60</td>\n",
       "      <td>RL</td>\n",
       "      <td>68.0</td>\n",
       "      <td>11250</td>\n",
       "      <td>Pave</td>\n",
       "      <td>NaN</td>\n",
       "      <td>IR1</td>\n",
       "      <td>Lvl</td>\n",
       "      <td>AllPub</td>\n",
       "      <td>Inside</td>\n",
       "      <td>...</td>\n",
       "      <td>0</td>\n",
       "      <td>NaN</td>\n",
       "      <td>NaN</td>\n",
       "      <td>NaN</td>\n",
       "      <td>0</td>\n",
       "      <td>9</td>\n",
       "      <td>2008</td>\n",
       "      <td>WD</td>\n",
       "      <td>Normal</td>\n",
       "      <td>223500</td>\n",
       "    </tr>\n",
       "    <tr>\n",
       "      <th>4</th>\n",
       "      <td>70</td>\n",
       "      <td>RL</td>\n",
       "      <td>60.0</td>\n",
       "      <td>9550</td>\n",
       "      <td>Pave</td>\n",
       "      <td>NaN</td>\n",
       "      <td>IR1</td>\n",
       "      <td>Lvl</td>\n",
       "      <td>AllPub</td>\n",
       "      <td>Corner</td>\n",
       "      <td>...</td>\n",
       "      <td>0</td>\n",
       "      <td>NaN</td>\n",
       "      <td>NaN</td>\n",
       "      <td>NaN</td>\n",
       "      <td>0</td>\n",
       "      <td>2</td>\n",
       "      <td>2006</td>\n",
       "      <td>WD</td>\n",
       "      <td>Abnorml</td>\n",
       "      <td>140000</td>\n",
       "    </tr>\n",
       "    <tr>\n",
       "      <th>5</th>\n",
       "      <td>60</td>\n",
       "      <td>RL</td>\n",
       "      <td>84.0</td>\n",
       "      <td>14260</td>\n",
       "      <td>Pave</td>\n",
       "      <td>NaN</td>\n",
       "      <td>IR1</td>\n",
       "      <td>Lvl</td>\n",
       "      <td>AllPub</td>\n",
       "      <td>FR2</td>\n",
       "      <td>...</td>\n",
       "      <td>0</td>\n",
       "      <td>NaN</td>\n",
       "      <td>NaN</td>\n",
       "      <td>NaN</td>\n",
       "      <td>0</td>\n",
       "      <td>12</td>\n",
       "      <td>2008</td>\n",
       "      <td>WD</td>\n",
       "      <td>Normal</td>\n",
       "      <td>250000</td>\n",
       "    </tr>\n",
       "  </tbody>\n",
       "</table>\n",
       "<p>5 rows × 80 columns</p>\n",
       "</div>"
      ],
      "text/plain": [
       "    MSSubClass MSZoning  LotFrontage  LotArea Street Alley LotShape  \\\n",
       "Id                                                                    \n",
       "1           60       RL         65.0     8450   Pave   NaN      Reg   \n",
       "2           20       RL         80.0     9600   Pave   NaN      Reg   \n",
       "3           60       RL         68.0    11250   Pave   NaN      IR1   \n",
       "4           70       RL         60.0     9550   Pave   NaN      IR1   \n",
       "5           60       RL         84.0    14260   Pave   NaN      IR1   \n",
       "\n",
       "   LandContour Utilities LotConfig  ... PoolArea PoolQC Fence MiscFeature  \\\n",
       "Id                                  ...                                     \n",
       "1          Lvl    AllPub    Inside  ...        0    NaN   NaN         NaN   \n",
       "2          Lvl    AllPub       FR2  ...        0    NaN   NaN         NaN   \n",
       "3          Lvl    AllPub    Inside  ...        0    NaN   NaN         NaN   \n",
       "4          Lvl    AllPub    Corner  ...        0    NaN   NaN         NaN   \n",
       "5          Lvl    AllPub       FR2  ...        0    NaN   NaN         NaN   \n",
       "\n",
       "   MiscVal MoSold  YrSold  SaleType  SaleCondition  SalePrice  \n",
       "Id                                                             \n",
       "1        0      2    2008        WD         Normal     208500  \n",
       "2        0      5    2007        WD         Normal     181500  \n",
       "3        0      9    2008        WD         Normal     223500  \n",
       "4        0      2    2006        WD        Abnorml     140000  \n",
       "5        0     12    2008        WD         Normal     250000  \n",
       "\n",
       "[5 rows x 80 columns]"
      ]
     },
     "execution_count": 5,
     "metadata": {},
     "output_type": "execute_result"
    }
   ],
   "source": [
    "df.head()"
   ]
  },
  {
   "cell_type": "code",
   "execution_count": 6,
   "id": "225d9caa",
   "metadata": {
    "execution": {
     "iopub.execute_input": "2025-05-03T15:04:05.380103Z",
     "iopub.status.busy": "2025-05-03T15:04:05.379740Z",
     "iopub.status.idle": "2025-05-03T15:04:05.386301Z",
     "shell.execute_reply": "2025-05-03T15:04:05.385145Z"
    },
    "papermill": {
     "duration": 0.0175,
     "end_time": "2025-05-03T15:04:05.388497",
     "exception": false,
     "start_time": "2025-05-03T15:04:05.370997",
     "status": "completed"
    },
    "tags": []
   },
   "outputs": [
    {
     "data": {
      "text/plain": [
       "(1460, 80)"
      ]
     },
     "execution_count": 6,
     "metadata": {},
     "output_type": "execute_result"
    }
   ],
   "source": [
    "df.shape\n",
    "\n",
    "# 1460 rows, 80 columns"
   ]
  },
  {
   "cell_type": "code",
   "execution_count": 7,
   "id": "292b2663",
   "metadata": {
    "execution": {
     "iopub.execute_input": "2025-05-03T15:04:05.405471Z",
     "iopub.status.busy": "2025-05-03T15:04:05.405063Z",
     "iopub.status.idle": "2025-05-03T15:04:05.409963Z",
     "shell.execute_reply": "2025-05-03T15:04:05.408858Z"
    },
    "papermill": {
     "duration": 0.015177,
     "end_time": "2025-05-03T15:04:05.411784",
     "exception": false,
     "start_time": "2025-05-03T15:04:05.396607",
     "status": "completed"
    },
    "tags": []
   },
   "outputs": [],
   "source": [
    "# Create a function to find the most correlated features\n",
    "# Finds 10 most correlated features to the target column\n",
    "def find_most_correlated_features(df, target_col, num_features=10):\n",
    "      corr_with_target = df.corr()[target_col].abs().sort_values(ascending=False)\n",
    "      most_correlated = corr_with_target.drop(target_col).head(num_features)\n",
    "      return most_correlated"
   ]
  },
  {
   "cell_type": "code",
   "execution_count": 8,
   "id": "3b064768",
   "metadata": {
    "execution": {
     "iopub.execute_input": "2025-05-03T15:04:05.428393Z",
     "iopub.status.busy": "2025-05-03T15:04:05.427997Z",
     "iopub.status.idle": "2025-05-03T15:04:05.432178Z",
     "shell.execute_reply": "2025-05-03T15:04:05.431259Z"
    },
    "papermill": {
     "duration": 0.014136,
     "end_time": "2025-05-03T15:04:05.433835",
     "exception": false,
     "start_time": "2025-05-03T15:04:05.419699",
     "status": "completed"
    },
    "tags": []
   },
   "outputs": [],
   "source": [
    "# Function to get only numerical features from the df.\n",
    "def isolate_numerical_features(df):\n",
    "  numerical_features = df.select_dtypes(include=['number'])\n",
    "  return numerical_features"
   ]
  },
  {
   "cell_type": "code",
   "execution_count": 9,
   "id": "3c022cef",
   "metadata": {
    "execution": {
     "iopub.execute_input": "2025-05-03T15:04:05.450022Z",
     "iopub.status.busy": "2025-05-03T15:04:05.449664Z",
     "iopub.status.idle": "2025-05-03T15:04:05.453672Z",
     "shell.execute_reply": "2025-05-03T15:04:05.452737Z"
    },
    "papermill": {
     "duration": 0.013904,
     "end_time": "2025-05-03T15:04:05.455287",
     "exception": false,
     "start_time": "2025-05-03T15:04:05.441383",
     "status": "completed"
    },
    "tags": []
   },
   "outputs": [],
   "source": [
    "def isolate_categorical_features(df):\n",
    "    categorical_features = df.select_dtypes(include=['object'])\n",
    "    return categorical_features"
   ]
  },
  {
   "cell_type": "code",
   "execution_count": 10,
   "id": "105b02bb",
   "metadata": {
    "execution": {
     "iopub.execute_input": "2025-05-03T15:04:05.471062Z",
     "iopub.status.busy": "2025-05-03T15:04:05.470746Z",
     "iopub.status.idle": "2025-05-03T15:04:05.476708Z",
     "shell.execute_reply": "2025-05-03T15:04:05.475822Z"
    },
    "papermill": {
     "duration": 0.015502,
     "end_time": "2025-05-03T15:04:05.478237",
     "exception": false,
     "start_time": "2025-05-03T15:04:05.462735",
     "status": "completed"
    },
    "tags": []
   },
   "outputs": [
    {
     "data": {
      "text/plain": [
       "(1460, 37)"
      ]
     },
     "execution_count": 10,
     "metadata": {},
     "output_type": "execute_result"
    }
   ],
   "source": [
    "df_numerical  = isolate_numerical_features(df)\n",
    "df_numerical.shape"
   ]
  },
  {
   "cell_type": "code",
   "execution_count": 11,
   "id": "e21f6428",
   "metadata": {
    "execution": {
     "iopub.execute_input": "2025-05-03T15:04:05.494100Z",
     "iopub.status.busy": "2025-05-03T15:04:05.493785Z",
     "iopub.status.idle": "2025-05-03T15:04:05.500068Z",
     "shell.execute_reply": "2025-05-03T15:04:05.499110Z"
    },
    "papermill": {
     "duration": 0.016046,
     "end_time": "2025-05-03T15:04:05.501778",
     "exception": false,
     "start_time": "2025-05-03T15:04:05.485732",
     "status": "completed"
    },
    "tags": []
   },
   "outputs": [
    {
     "data": {
      "text/plain": [
       "(1460, 43)"
      ]
     },
     "execution_count": 11,
     "metadata": {},
     "output_type": "execute_result"
    }
   ],
   "source": [
    "df_categorical = isolate_categorical_features(df)\n",
    "df_categorical.shape"
   ]
  },
  {
   "cell_type": "code",
   "execution_count": 12,
   "id": "608903fd",
   "metadata": {
    "execution": {
     "iopub.execute_input": "2025-05-03T15:04:05.518386Z",
     "iopub.status.busy": "2025-05-03T15:04:05.518016Z",
     "iopub.status.idle": "2025-05-03T15:04:05.534589Z",
     "shell.execute_reply": "2025-05-03T15:04:05.533611Z"
    },
    "papermill": {
     "duration": 0.026486,
     "end_time": "2025-05-03T15:04:05.536164",
     "exception": false,
     "start_time": "2025-05-03T15:04:05.509678",
     "status": "completed"
    },
    "tags": []
   },
   "outputs": [
    {
     "data": {
      "text/plain": [
       "OverallQual     0.790982\n",
       "GrLivArea       0.708624\n",
       "GarageCars      0.640409\n",
       "GarageArea      0.623431\n",
       "TotalBsmtSF     0.613581\n",
       "1stFlrSF        0.605852\n",
       "FullBath        0.560664\n",
       "TotRmsAbvGrd    0.533723\n",
       "YearBuilt       0.522897\n",
       "YearRemodAdd    0.507101\n",
       "GarageYrBlt     0.486362\n",
       "MasVnrArea      0.477493\n",
       "Fireplaces      0.466929\n",
       "BsmtFinSF1      0.386420\n",
       "LotFrontage     0.351799\n",
       "WoodDeckSF      0.324413\n",
       "2ndFlrSF        0.319334\n",
       "OpenPorchSF     0.315856\n",
       "HalfBath        0.284108\n",
       "LotArea         0.263843\n",
       "Name: SalePrice, dtype: float64"
      ]
     },
     "execution_count": 12,
     "metadata": {},
     "output_type": "execute_result"
    }
   ],
   "source": [
    "find_most_correlated_features(df_numerical,'SalePrice',num_features=20)"
   ]
  },
  {
   "cell_type": "markdown",
   "id": "0a755d1c",
   "metadata": {
    "papermill": {
     "duration": 0.007368,
     "end_time": "2025-05-03T15:04:05.551506",
     "exception": false,
     "start_time": "2025-05-03T15:04:05.544138",
     "status": "completed"
    },
    "tags": []
   },
   "source": [
    "# Build model"
   ]
  },
  {
   "cell_type": "code",
   "execution_count": 13,
   "id": "39db1c9e",
   "metadata": {
    "execution": {
     "iopub.execute_input": "2025-05-03T15:04:05.568695Z",
     "iopub.status.busy": "2025-05-03T15:04:05.568348Z",
     "iopub.status.idle": "2025-05-03T15:04:05.728760Z",
     "shell.execute_reply": "2025-05-03T15:04:05.727814Z"
    },
    "papermill": {
     "duration": 0.171395,
     "end_time": "2025-05-03T15:04:05.730541",
     "exception": false,
     "start_time": "2025-05-03T15:04:05.559146",
     "status": "completed"
    },
    "tags": []
   },
   "outputs": [],
   "source": [
    "# Building a decision tree\n",
    "from sklearn.tree import DecisionTreeRegressor\n",
    "\n",
    "house_model = DecisionTreeRegressor(random_state =1)"
   ]
  },
  {
   "cell_type": "code",
   "execution_count": 14,
   "id": "2244e50a",
   "metadata": {
    "execution": {
     "iopub.execute_input": "2025-05-03T15:04:05.747263Z",
     "iopub.status.busy": "2025-05-03T15:04:05.746917Z",
     "iopub.status.idle": "2025-05-03T15:04:05.752670Z",
     "shell.execute_reply": "2025-05-03T15:04:05.751765Z"
    },
    "papermill": {
     "duration": 0.015722,
     "end_time": "2025-05-03T15:04:05.754105",
     "exception": false,
     "start_time": "2025-05-03T15:04:05.738383",
     "status": "completed"
    },
    "tags": []
   },
   "outputs": [],
   "source": [
    "X = df[['OverallQual','GrLivArea','GarageCars','GarageArea','TotalBsmtSF','1stFlrSF','FullBath','TotRmsAbvGrd','YearBuilt','YearRemodAdd','GarageYrBlt','MasVnrArea','Fireplaces','BsmtFinSF1','LotFrontage','WoodDeckSF','2ndFlrSF','OpenPorchSF','HalfBath','LotArea']]\n",
    "y = df['SalePrice']"
   ]
  },
  {
   "cell_type": "code",
   "execution_count": 15,
   "id": "2dccdba0",
   "metadata": {
    "execution": {
     "iopub.execute_input": "2025-05-03T15:04:05.770715Z",
     "iopub.status.busy": "2025-05-03T15:04:05.770378Z",
     "iopub.status.idle": "2025-05-03T15:04:05.776505Z",
     "shell.execute_reply": "2025-05-03T15:04:05.775644Z"
    },
    "papermill": {
     "duration": 0.015998,
     "end_time": "2025-05-03T15:04:05.777933",
     "exception": false,
     "start_time": "2025-05-03T15:04:05.761935",
     "status": "completed"
    },
    "tags": []
   },
   "outputs": [],
   "source": [
    "# Combine X and y for easier row-wise dropping\n",
    "data = pd.concat([X, y], axis=1)\n",
    "\n",
    "# Drop rows with any NaN values\n",
    "data_cleaned = data.dropna()"
   ]
  },
  {
   "cell_type": "code",
   "execution_count": 16,
   "id": "d456597b",
   "metadata": {
    "execution": {
     "iopub.execute_input": "2025-05-03T15:04:05.794880Z",
     "iopub.status.busy": "2025-05-03T15:04:05.794529Z",
     "iopub.status.idle": "2025-05-03T15:04:05.811784Z",
     "shell.execute_reply": "2025-05-03T15:04:05.810758Z"
    },
    "papermill": {
     "duration": 0.027193,
     "end_time": "2025-05-03T15:04:05.813360",
     "exception": false,
     "start_time": "2025-05-03T15:04:05.786167",
     "status": "completed"
    },
    "tags": []
   },
   "outputs": [
    {
     "data": {
      "text/html": [
       "<div>\n",
       "<style scoped>\n",
       "    .dataframe tbody tr th:only-of-type {\n",
       "        vertical-align: middle;\n",
       "    }\n",
       "\n",
       "    .dataframe tbody tr th {\n",
       "        vertical-align: top;\n",
       "    }\n",
       "\n",
       "    .dataframe thead th {\n",
       "        text-align: right;\n",
       "    }\n",
       "</style>\n",
       "<table border=\"1\" class=\"dataframe\">\n",
       "  <thead>\n",
       "    <tr style=\"text-align: right;\">\n",
       "      <th></th>\n",
       "      <th>OverallQual</th>\n",
       "      <th>GrLivArea</th>\n",
       "      <th>GarageCars</th>\n",
       "      <th>GarageArea</th>\n",
       "      <th>TotalBsmtSF</th>\n",
       "      <th>1stFlrSF</th>\n",
       "      <th>FullBath</th>\n",
       "      <th>TotRmsAbvGrd</th>\n",
       "      <th>YearBuilt</th>\n",
       "      <th>YearRemodAdd</th>\n",
       "      <th>...</th>\n",
       "      <th>MasVnrArea</th>\n",
       "      <th>Fireplaces</th>\n",
       "      <th>BsmtFinSF1</th>\n",
       "      <th>LotFrontage</th>\n",
       "      <th>WoodDeckSF</th>\n",
       "      <th>2ndFlrSF</th>\n",
       "      <th>OpenPorchSF</th>\n",
       "      <th>HalfBath</th>\n",
       "      <th>LotArea</th>\n",
       "      <th>SalePrice</th>\n",
       "    </tr>\n",
       "    <tr>\n",
       "      <th>Id</th>\n",
       "      <th></th>\n",
       "      <th></th>\n",
       "      <th></th>\n",
       "      <th></th>\n",
       "      <th></th>\n",
       "      <th></th>\n",
       "      <th></th>\n",
       "      <th></th>\n",
       "      <th></th>\n",
       "      <th></th>\n",
       "      <th></th>\n",
       "      <th></th>\n",
       "      <th></th>\n",
       "      <th></th>\n",
       "      <th></th>\n",
       "      <th></th>\n",
       "      <th></th>\n",
       "      <th></th>\n",
       "      <th></th>\n",
       "      <th></th>\n",
       "      <th></th>\n",
       "    </tr>\n",
       "  </thead>\n",
       "  <tbody>\n",
       "    <tr>\n",
       "      <th>1</th>\n",
       "      <td>7</td>\n",
       "      <td>1710</td>\n",
       "      <td>2</td>\n",
       "      <td>548</td>\n",
       "      <td>856</td>\n",
       "      <td>856</td>\n",
       "      <td>2</td>\n",
       "      <td>8</td>\n",
       "      <td>2003</td>\n",
       "      <td>2003</td>\n",
       "      <td>...</td>\n",
       "      <td>196.0</td>\n",
       "      <td>0</td>\n",
       "      <td>706</td>\n",
       "      <td>65.0</td>\n",
       "      <td>0</td>\n",
       "      <td>854</td>\n",
       "      <td>61</td>\n",
       "      <td>1</td>\n",
       "      <td>8450</td>\n",
       "      <td>208500</td>\n",
       "    </tr>\n",
       "    <tr>\n",
       "      <th>2</th>\n",
       "      <td>6</td>\n",
       "      <td>1262</td>\n",
       "      <td>2</td>\n",
       "      <td>460</td>\n",
       "      <td>1262</td>\n",
       "      <td>1262</td>\n",
       "      <td>2</td>\n",
       "      <td>6</td>\n",
       "      <td>1976</td>\n",
       "      <td>1976</td>\n",
       "      <td>...</td>\n",
       "      <td>0.0</td>\n",
       "      <td>1</td>\n",
       "      <td>978</td>\n",
       "      <td>80.0</td>\n",
       "      <td>298</td>\n",
       "      <td>0</td>\n",
       "      <td>0</td>\n",
       "      <td>0</td>\n",
       "      <td>9600</td>\n",
       "      <td>181500</td>\n",
       "    </tr>\n",
       "    <tr>\n",
       "      <th>3</th>\n",
       "      <td>7</td>\n",
       "      <td>1786</td>\n",
       "      <td>2</td>\n",
       "      <td>608</td>\n",
       "      <td>920</td>\n",
       "      <td>920</td>\n",
       "      <td>2</td>\n",
       "      <td>6</td>\n",
       "      <td>2001</td>\n",
       "      <td>2002</td>\n",
       "      <td>...</td>\n",
       "      <td>162.0</td>\n",
       "      <td>1</td>\n",
       "      <td>486</td>\n",
       "      <td>68.0</td>\n",
       "      <td>0</td>\n",
       "      <td>866</td>\n",
       "      <td>42</td>\n",
       "      <td>1</td>\n",
       "      <td>11250</td>\n",
       "      <td>223500</td>\n",
       "    </tr>\n",
       "    <tr>\n",
       "      <th>4</th>\n",
       "      <td>7</td>\n",
       "      <td>1717</td>\n",
       "      <td>3</td>\n",
       "      <td>642</td>\n",
       "      <td>756</td>\n",
       "      <td>961</td>\n",
       "      <td>1</td>\n",
       "      <td>7</td>\n",
       "      <td>1915</td>\n",
       "      <td>1970</td>\n",
       "      <td>...</td>\n",
       "      <td>0.0</td>\n",
       "      <td>1</td>\n",
       "      <td>216</td>\n",
       "      <td>60.0</td>\n",
       "      <td>0</td>\n",
       "      <td>756</td>\n",
       "      <td>35</td>\n",
       "      <td>0</td>\n",
       "      <td>9550</td>\n",
       "      <td>140000</td>\n",
       "    </tr>\n",
       "    <tr>\n",
       "      <th>5</th>\n",
       "      <td>8</td>\n",
       "      <td>2198</td>\n",
       "      <td>3</td>\n",
       "      <td>836</td>\n",
       "      <td>1145</td>\n",
       "      <td>1145</td>\n",
       "      <td>2</td>\n",
       "      <td>9</td>\n",
       "      <td>2000</td>\n",
       "      <td>2000</td>\n",
       "      <td>...</td>\n",
       "      <td>350.0</td>\n",
       "      <td>1</td>\n",
       "      <td>655</td>\n",
       "      <td>84.0</td>\n",
       "      <td>192</td>\n",
       "      <td>1053</td>\n",
       "      <td>84</td>\n",
       "      <td>1</td>\n",
       "      <td>14260</td>\n",
       "      <td>250000</td>\n",
       "    </tr>\n",
       "  </tbody>\n",
       "</table>\n",
       "<p>5 rows × 21 columns</p>\n",
       "</div>"
      ],
      "text/plain": [
       "    OverallQual  GrLivArea  GarageCars  GarageArea  TotalBsmtSF  1stFlrSF  \\\n",
       "Id                                                                          \n",
       "1             7       1710           2         548          856       856   \n",
       "2             6       1262           2         460         1262      1262   \n",
       "3             7       1786           2         608          920       920   \n",
       "4             7       1717           3         642          756       961   \n",
       "5             8       2198           3         836         1145      1145   \n",
       "\n",
       "    FullBath  TotRmsAbvGrd  YearBuilt  YearRemodAdd  ...  MasVnrArea  \\\n",
       "Id                                                   ...               \n",
       "1          2             8       2003          2003  ...       196.0   \n",
       "2          2             6       1976          1976  ...         0.0   \n",
       "3          2             6       2001          2002  ...       162.0   \n",
       "4          1             7       1915          1970  ...         0.0   \n",
       "5          2             9       2000          2000  ...       350.0   \n",
       "\n",
       "    Fireplaces  BsmtFinSF1  LotFrontage  WoodDeckSF  2ndFlrSF  OpenPorchSF  \\\n",
       "Id                                                                           \n",
       "1            0         706         65.0           0       854           61   \n",
       "2            1         978         80.0         298         0            0   \n",
       "3            1         486         68.0           0       866           42   \n",
       "4            1         216         60.0           0       756           35   \n",
       "5            1         655         84.0         192      1053           84   \n",
       "\n",
       "    HalfBath  LotArea  SalePrice  \n",
       "Id                                \n",
       "1          1     8450     208500  \n",
       "2          0     9600     181500  \n",
       "3          1    11250     223500  \n",
       "4          0     9550     140000  \n",
       "5          1    14260     250000  \n",
       "\n",
       "[5 rows x 21 columns]"
      ]
     },
     "execution_count": 16,
     "metadata": {},
     "output_type": "execute_result"
    }
   ],
   "source": [
    "data_cleaned.head()"
   ]
  },
  {
   "cell_type": "code",
   "execution_count": 17,
   "id": "8401989c",
   "metadata": {
    "execution": {
     "iopub.execute_input": "2025-05-03T15:04:05.831192Z",
     "iopub.status.busy": "2025-05-03T15:04:05.830836Z",
     "iopub.status.idle": "2025-05-03T15:04:05.835853Z",
     "shell.execute_reply": "2025-05-03T15:04:05.834884Z"
    },
    "papermill": {
     "duration": 0.016092,
     "end_time": "2025-05-03T15:04:05.837701",
     "exception": false,
     "start_time": "2025-05-03T15:04:05.821609",
     "status": "completed"
    },
    "tags": []
   },
   "outputs": [],
   "source": [
    "X_cleaned = data_cleaned.iloc[:, :-1]  # Assuming the target is the last column\n",
    "y_cleaned = data_cleaned.iloc[:, -1] # Target column is SalePrice."
   ]
  },
  {
   "cell_type": "code",
   "execution_count": 18,
   "id": "674f40d4",
   "metadata": {
    "execution": {
     "iopub.execute_input": "2025-05-03T15:04:05.855119Z",
     "iopub.status.busy": "2025-05-03T15:04:05.854771Z",
     "iopub.status.idle": "2025-05-03T15:04:05.865053Z",
     "shell.execute_reply": "2025-05-03T15:04:05.864152Z"
    },
    "papermill": {
     "duration": 0.020633,
     "end_time": "2025-05-03T15:04:05.866559",
     "exception": false,
     "start_time": "2025-05-03T15:04:05.845926",
     "status": "completed"
    },
    "tags": []
   },
   "outputs": [
    {
     "name": "stdout",
     "output_type": "stream",
     "text": [
      "the shape of the training set (input) is: (672, 20)\n",
      "the shape of the training set (target) is: (672,)\n",
      "\n",
      "the shape of the cross validation set (input) is: (224, 20)\n",
      "the shape of the cross validation set (target) is: (224,)\n",
      "\n",
      "the shape of the test set (input) is: (225, 20)\n",
      "the shape of the test set (target) is: (225,)\n"
     ]
    }
   ],
   "source": [
    "# Split the cleaned data into train, test, cross-validation sets\n",
    "\n",
    "#X_train, X_test, y_train, y_test = train_test_split(X_cleaned, y_cleaned, test_size=0.2, random_state=42)\n",
    "\n",
    "# Get 60% of the dataset as the training set\n",
    "X_train, X_, y_train, y_ = train_test_split(X_cleaned, y_cleaned, test_size = 0.4, random_state =42)\n",
    "# Random state ensures that the split is the same every time you run the code, for reproducibility.\n",
    "\n",
    "# Split the 40% subset into 20% for cross validation and 20% for test set \n",
    "X_cv, X_test, y_cv, y_test = train_test_split(X_, y_, test_size =0.5, random_state=42)\n",
    "\n",
    "# Delete temporary variables\n",
    "del X_, y_\n",
    "\n",
    "print(f\"the shape of the training set (input) is: {X_train.shape}\")\n",
    "print(f\"the shape of the training set (target) is: {y_train.shape}\\n\")\n",
    "print(f\"the shape of the cross validation set (input) is: {X_cv.shape}\")\n",
    "print(f\"the shape of the cross validation set (target) is: {y_cv.shape}\\n\")\n",
    "print(f\"the shape of the test set (input) is: {X_test.shape}\")\n",
    "print(f\"the shape of the test set (target) is: {y_test.shape}\")"
   ]
  },
  {
   "cell_type": "code",
   "execution_count": 19,
   "id": "d58e161e",
   "metadata": {
    "execution": {
     "iopub.execute_input": "2025-05-03T15:04:05.883826Z",
     "iopub.status.busy": "2025-05-03T15:04:05.883493Z",
     "iopub.status.idle": "2025-05-03T15:04:05.905450Z",
     "shell.execute_reply": "2025-05-03T15:04:05.904187Z"
    },
    "papermill": {
     "duration": 0.032428,
     "end_time": "2025-05-03T15:04:05.907187",
     "exception": false,
     "start_time": "2025-05-03T15:04:05.874759",
     "status": "completed"
    },
    "tags": []
   },
   "outputs": [
    {
     "data": {
      "text/html": [
       "<style>#sk-container-id-1 {color: black;background-color: white;}#sk-container-id-1 pre{padding: 0;}#sk-container-id-1 div.sk-toggleable {background-color: white;}#sk-container-id-1 label.sk-toggleable__label {cursor: pointer;display: block;width: 100%;margin-bottom: 0;padding: 0.3em;box-sizing: border-box;text-align: center;}#sk-container-id-1 label.sk-toggleable__label-arrow:before {content: \"▸\";float: left;margin-right: 0.25em;color: #696969;}#sk-container-id-1 label.sk-toggleable__label-arrow:hover:before {color: black;}#sk-container-id-1 div.sk-estimator:hover label.sk-toggleable__label-arrow:before {color: black;}#sk-container-id-1 div.sk-toggleable__content {max-height: 0;max-width: 0;overflow: hidden;text-align: left;background-color: #f0f8ff;}#sk-container-id-1 div.sk-toggleable__content pre {margin: 0.2em;color: black;border-radius: 0.25em;background-color: #f0f8ff;}#sk-container-id-1 input.sk-toggleable__control:checked~div.sk-toggleable__content {max-height: 200px;max-width: 100%;overflow: auto;}#sk-container-id-1 input.sk-toggleable__control:checked~label.sk-toggleable__label-arrow:before {content: \"▾\";}#sk-container-id-1 div.sk-estimator input.sk-toggleable__control:checked~label.sk-toggleable__label {background-color: #d4ebff;}#sk-container-id-1 div.sk-label input.sk-toggleable__control:checked~label.sk-toggleable__label {background-color: #d4ebff;}#sk-container-id-1 input.sk-hidden--visually {border: 0;clip: rect(1px 1px 1px 1px);clip: rect(1px, 1px, 1px, 1px);height: 1px;margin: -1px;overflow: hidden;padding: 0;position: absolute;width: 1px;}#sk-container-id-1 div.sk-estimator {font-family: monospace;background-color: #f0f8ff;border: 1px dotted black;border-radius: 0.25em;box-sizing: border-box;margin-bottom: 0.5em;}#sk-container-id-1 div.sk-estimator:hover {background-color: #d4ebff;}#sk-container-id-1 div.sk-parallel-item::after {content: \"\";width: 100%;border-bottom: 1px solid gray;flex-grow: 1;}#sk-container-id-1 div.sk-label:hover label.sk-toggleable__label {background-color: #d4ebff;}#sk-container-id-1 div.sk-serial::before {content: \"\";position: absolute;border-left: 1px solid gray;box-sizing: border-box;top: 0;bottom: 0;left: 50%;z-index: 0;}#sk-container-id-1 div.sk-serial {display: flex;flex-direction: column;align-items: center;background-color: white;padding-right: 0.2em;padding-left: 0.2em;position: relative;}#sk-container-id-1 div.sk-item {position: relative;z-index: 1;}#sk-container-id-1 div.sk-parallel {display: flex;align-items: stretch;justify-content: center;background-color: white;position: relative;}#sk-container-id-1 div.sk-item::before, #sk-container-id-1 div.sk-parallel-item::before {content: \"\";position: absolute;border-left: 1px solid gray;box-sizing: border-box;top: 0;bottom: 0;left: 50%;z-index: -1;}#sk-container-id-1 div.sk-parallel-item {display: flex;flex-direction: column;z-index: 1;position: relative;background-color: white;}#sk-container-id-1 div.sk-parallel-item:first-child::after {align-self: flex-end;width: 50%;}#sk-container-id-1 div.sk-parallel-item:last-child::after {align-self: flex-start;width: 50%;}#sk-container-id-1 div.sk-parallel-item:only-child::after {width: 0;}#sk-container-id-1 div.sk-dashed-wrapped {border: 1px dashed gray;margin: 0 0.4em 0.5em 0.4em;box-sizing: border-box;padding-bottom: 0.4em;background-color: white;}#sk-container-id-1 div.sk-label label {font-family: monospace;font-weight: bold;display: inline-block;line-height: 1.2em;}#sk-container-id-1 div.sk-label-container {text-align: center;}#sk-container-id-1 div.sk-container {/* jupyter's `normalize.less` sets `[hidden] { display: none; }` but bootstrap.min.css set `[hidden] { display: none !important; }` so we also need the `!important` here to be able to override the default hidden behavior on the sphinx rendered scikit-learn.org. See: https://github.com/scikit-learn/scikit-learn/issues/21755 */display: inline-block !important;position: relative;}#sk-container-id-1 div.sk-text-repr-fallback {display: none;}</style><div id=\"sk-container-id-1\" class=\"sk-top-container\"><div class=\"sk-text-repr-fallback\"><pre>DecisionTreeRegressor(random_state=1)</pre><b>In a Jupyter environment, please rerun this cell to show the HTML representation or trust the notebook. <br />On GitHub, the HTML representation is unable to render, please try loading this page with nbviewer.org.</b></div><div class=\"sk-container\" hidden><div class=\"sk-item\"><div class=\"sk-estimator sk-toggleable\"><input class=\"sk-toggleable__control sk-hidden--visually\" id=\"sk-estimator-id-1\" type=\"checkbox\" checked><label for=\"sk-estimator-id-1\" class=\"sk-toggleable__label sk-toggleable__label-arrow\">DecisionTreeRegressor</label><div class=\"sk-toggleable__content\"><pre>DecisionTreeRegressor(random_state=1)</pre></div></div></div></div></div>"
      ],
      "text/plain": [
       "DecisionTreeRegressor(random_state=1)"
      ]
     },
     "execution_count": 19,
     "metadata": {},
     "output_type": "execute_result"
    }
   ],
   "source": [
    "house_model.fit(X_train, y_train)"
   ]
  },
  {
   "cell_type": "code",
   "execution_count": 20,
   "id": "1706b73e",
   "metadata": {
    "execution": {
     "iopub.execute_input": "2025-05-03T15:04:05.925264Z",
     "iopub.status.busy": "2025-05-03T15:04:05.924941Z",
     "iopub.status.idle": "2025-05-03T15:04:05.930756Z",
     "shell.execute_reply": "2025-05-03T15:04:05.929726Z"
    },
    "papermill": {
     "duration": 0.016505,
     "end_time": "2025-05-03T15:04:05.932338",
     "exception": false,
     "start_time": "2025-05-03T15:04:05.915833",
     "status": "completed"
    },
    "tags": []
   },
   "outputs": [],
   "source": [
    "# Make predictions\n",
    "predictions = house_model.predict(X_test)"
   ]
  },
  {
   "cell_type": "code",
   "execution_count": 21,
   "id": "5a46e630",
   "metadata": {
    "execution": {
     "iopub.execute_input": "2025-05-03T15:04:05.950517Z",
     "iopub.status.busy": "2025-05-03T15:04:05.950107Z",
     "iopub.status.idle": "2025-05-03T15:04:05.957223Z",
     "shell.execute_reply": "2025-05-03T15:04:05.956168Z"
    },
    "papermill": {
     "duration": 0.01798,
     "end_time": "2025-05-03T15:04:05.958759",
     "exception": false,
     "start_time": "2025-05-03T15:04:05.940779",
     "status": "completed"
    },
    "tags": []
   },
   "outputs": [
    {
     "name": "stdout",
     "output_type": "stream",
     "text": [
      "30277.933333333334\n",
      "2504992869.3377776\n",
      "50049.903789495715\n"
     ]
    }
   ],
   "source": [
    "# Evaluate the model: MAE, MSE, RMSE\n",
    "MAE = mean_absolute_error(y_test, predictions)\n",
    "MSE = mean_squared_error(y_test, predictions)\n",
    "RMSE = np.sqrt(MSE)\n",
    "\n",
    "print(MAE)\n",
    "# With an MAE of 22,868, this means that on average my model's predictions are off by £22,688. Avg house price in dataset is £180,921. On average 12.5% error. \n",
    "print(MSE)\n",
    "print(RMSE)\n",
    "# RMSE of first iteration of the model is £33,189. RMSE penalises larger errors more heavily than MAE."
   ]
  },
  {
   "cell_type": "code",
   "execution_count": 22,
   "id": "5e9e1bc6",
   "metadata": {
    "execution": {
     "iopub.execute_input": "2025-05-03T15:04:05.977634Z",
     "iopub.status.busy": "2025-05-03T15:04:05.977258Z",
     "iopub.status.idle": "2025-05-03T15:04:05.981480Z",
     "shell.execute_reply": "2025-05-03T15:04:05.980429Z"
    },
    "papermill": {
     "duration": 0.015986,
     "end_time": "2025-05-03T15:04:05.983182",
     "exception": false,
     "start_time": "2025-05-03T15:04:05.967196",
     "status": "completed"
    },
    "tags": []
   },
   "outputs": [],
   "source": [
    "# Improving the model through hyperparameter tuning\n",
    "# Using GridSearchCV\n",
    "\n",
    "from sklearn.model_selection import GridSearchCV"
   ]
  },
  {
   "cell_type": "code",
   "execution_count": 23,
   "id": "f634ee3e",
   "metadata": {
    "execution": {
     "iopub.execute_input": "2025-05-03T15:04:06.001391Z",
     "iopub.status.busy": "2025-05-03T15:04:06.000972Z",
     "iopub.status.idle": "2025-05-03T15:04:06.005142Z",
     "shell.execute_reply": "2025-05-03T15:04:06.004114Z"
    },
    "papermill": {
     "duration": 0.014955,
     "end_time": "2025-05-03T15:04:06.006727",
     "exception": false,
     "start_time": "2025-05-03T15:04:05.991772",
     "status": "completed"
    },
    "tags": []
   },
   "outputs": [],
   "source": [
    "# Create a 2nd model that will use for hyperparameter training\n",
    "# This is the model that will be tuned.\n",
    "\n",
    "house_model_v2 = DecisionTreeRegressor(random_state=42)"
   ]
  },
  {
   "cell_type": "code",
   "execution_count": 24,
   "id": "2bacd9cb",
   "metadata": {
    "execution": {
     "iopub.execute_input": "2025-05-03T15:04:06.025448Z",
     "iopub.status.busy": "2025-05-03T15:04:06.025058Z",
     "iopub.status.idle": "2025-05-03T15:04:06.029801Z",
     "shell.execute_reply": "2025-05-03T15:04:06.028777Z"
    },
    "papermill": {
     "duration": 0.015781,
     "end_time": "2025-05-03T15:04:06.031540",
     "exception": false,
     "start_time": "2025-05-03T15:04:06.015759",
     "status": "completed"
    },
    "tags": []
   },
   "outputs": [],
   "source": [
    "# Parameters that we will vary with GridSearch.\n",
    "# Parameter grid. It's a dictionary that specifies the hyperparemeters that will be tuned.\n",
    "\n",
    "# Max_depth is the maximum depth of the tree.\n",
    "# Min_samples_splt is the min number of samples required to split an internal node.\n",
    "# Min_samples_leaf is the min number of samples required to be at a leaf node.\n",
    "# Max_features is the number of features to consider when looking for the best split.\n",
    "\n",
    "param_grid = {\n",
    "    'max_depth': [None, 5, 10, 15, 20],\n",
    "    'min_samples_split': [2, 5, 10, 20],\n",
    "    'min_samples_leaf': [1, 3, 5, 10],\n",
    "    'max_features': ['auto', 'sqrt', 'log2', None]  \n",
    "}"
   ]
  },
  {
   "cell_type": "code",
   "execution_count": 25,
   "id": "76ce94af",
   "metadata": {
    "execution": {
     "iopub.execute_input": "2025-05-03T15:04:06.049617Z",
     "iopub.status.busy": "2025-05-03T15:04:06.049214Z",
     "iopub.status.idle": "2025-05-03T15:04:06.053758Z",
     "shell.execute_reply": "2025-05-03T15:04:06.052630Z"
    },
    "papermill": {
     "duration": 0.015457,
     "end_time": "2025-05-03T15:04:06.055472",
     "exception": false,
     "start_time": "2025-05-03T15:04:06.040015",
     "status": "completed"
    },
    "tags": []
   },
   "outputs": [],
   "source": [
    "from sklearn.metrics import make_scorer, mean_squared_error, mean_absolute_error\n",
    "# Have to choose a scoring metric to evaluate the performance of each hyperparameter combination.\n",
    "\n",
    "# Using negative mean squared error as the scoring metric\n",
    "scoring_metric = 'neg_mean_squared_error'\n",
    "\n",
    "# Alternatively, to minimize MAE:\n",
    "# scoring_metric = 'neg_mean_absolute_error'\n",
    "\n",
    "# Or to maximize R-squared:\n",
    "# scoring_metric = 'r2'"
   ]
  },
  {
   "cell_type": "code",
   "execution_count": 26,
   "id": "052911ad",
   "metadata": {
    "execution": {
     "iopub.execute_input": "2025-05-03T15:04:06.073728Z",
     "iopub.status.busy": "2025-05-03T15:04:06.073366Z",
     "iopub.status.idle": "2025-05-03T15:04:06.078095Z",
     "shell.execute_reply": "2025-05-03T15:04:06.076968Z"
    },
    "papermill": {
     "duration": 0.015776,
     "end_time": "2025-05-03T15:04:06.079853",
     "exception": false,
     "start_time": "2025-05-03T15:04:06.064077",
     "status": "completed"
    },
    "tags": []
   },
   "outputs": [],
   "source": [
    "grid_search = GridSearchCV(estimator=house_model_v2,\n",
    "                           param_grid=param_grid,\n",
    "                           scoring=scoring_metric,\n",
    "                           cv=5, # The number of cross-validation folds. Common values is 5 or 10.\n",
    "                           n_jobs=-1, # uses all CPU cores\n",
    "                           verbose=2) # Controls the amount of output during the search."
   ]
  },
  {
   "cell_type": "code",
   "execution_count": 27,
   "id": "1e7ca2b3",
   "metadata": {
    "execution": {
     "iopub.execute_input": "2025-05-03T15:04:06.097831Z",
     "iopub.status.busy": "2025-05-03T15:04:06.097479Z",
     "iopub.status.idle": "2025-05-03T15:04:12.540828Z",
     "shell.execute_reply": "2025-05-03T15:04:12.539519Z"
    },
    "papermill": {
     "duration": 6.454107,
     "end_time": "2025-05-03T15:04:12.542486",
     "exception": false,
     "start_time": "2025-05-03T15:04:06.088379",
     "status": "completed"
    },
    "tags": []
   },
   "outputs": [
    {
     "name": "stdout",
     "output_type": "stream",
     "text": [
      "Fitting 5 folds for each of 320 candidates, totalling 1600 fits\n"
     ]
    },
    {
     "name": "stderr",
     "output_type": "stream",
     "text": [
      "/usr/local/lib/python3.10/dist-packages/sklearn/tree/_classes.py:277: FutureWarning: `max_features='auto'` has been deprecated in 1.1 and will be removed in 1.3. To keep the past behaviour, explicitly set `max_features=1.0'`.\n",
      "  warnings.warn(\n"
     ]
    },
    {
     "data": {
      "text/html": [
       "<style>#sk-container-id-2 {color: black;background-color: white;}#sk-container-id-2 pre{padding: 0;}#sk-container-id-2 div.sk-toggleable {background-color: white;}#sk-container-id-2 label.sk-toggleable__label {cursor: pointer;display: block;width: 100%;margin-bottom: 0;padding: 0.3em;box-sizing: border-box;text-align: center;}#sk-container-id-2 label.sk-toggleable__label-arrow:before {content: \"▸\";float: left;margin-right: 0.25em;color: #696969;}#sk-container-id-2 label.sk-toggleable__label-arrow:hover:before {color: black;}#sk-container-id-2 div.sk-estimator:hover label.sk-toggleable__label-arrow:before {color: black;}#sk-container-id-2 div.sk-toggleable__content {max-height: 0;max-width: 0;overflow: hidden;text-align: left;background-color: #f0f8ff;}#sk-container-id-2 div.sk-toggleable__content pre {margin: 0.2em;color: black;border-radius: 0.25em;background-color: #f0f8ff;}#sk-container-id-2 input.sk-toggleable__control:checked~div.sk-toggleable__content {max-height: 200px;max-width: 100%;overflow: auto;}#sk-container-id-2 input.sk-toggleable__control:checked~label.sk-toggleable__label-arrow:before {content: \"▾\";}#sk-container-id-2 div.sk-estimator input.sk-toggleable__control:checked~label.sk-toggleable__label {background-color: #d4ebff;}#sk-container-id-2 div.sk-label input.sk-toggleable__control:checked~label.sk-toggleable__label {background-color: #d4ebff;}#sk-container-id-2 input.sk-hidden--visually {border: 0;clip: rect(1px 1px 1px 1px);clip: rect(1px, 1px, 1px, 1px);height: 1px;margin: -1px;overflow: hidden;padding: 0;position: absolute;width: 1px;}#sk-container-id-2 div.sk-estimator {font-family: monospace;background-color: #f0f8ff;border: 1px dotted black;border-radius: 0.25em;box-sizing: border-box;margin-bottom: 0.5em;}#sk-container-id-2 div.sk-estimator:hover {background-color: #d4ebff;}#sk-container-id-2 div.sk-parallel-item::after {content: \"\";width: 100%;border-bottom: 1px solid gray;flex-grow: 1;}#sk-container-id-2 div.sk-label:hover label.sk-toggleable__label {background-color: #d4ebff;}#sk-container-id-2 div.sk-serial::before {content: \"\";position: absolute;border-left: 1px solid gray;box-sizing: border-box;top: 0;bottom: 0;left: 50%;z-index: 0;}#sk-container-id-2 div.sk-serial {display: flex;flex-direction: column;align-items: center;background-color: white;padding-right: 0.2em;padding-left: 0.2em;position: relative;}#sk-container-id-2 div.sk-item {position: relative;z-index: 1;}#sk-container-id-2 div.sk-parallel {display: flex;align-items: stretch;justify-content: center;background-color: white;position: relative;}#sk-container-id-2 div.sk-item::before, #sk-container-id-2 div.sk-parallel-item::before {content: \"\";position: absolute;border-left: 1px solid gray;box-sizing: border-box;top: 0;bottom: 0;left: 50%;z-index: -1;}#sk-container-id-2 div.sk-parallel-item {display: flex;flex-direction: column;z-index: 1;position: relative;background-color: white;}#sk-container-id-2 div.sk-parallel-item:first-child::after {align-self: flex-end;width: 50%;}#sk-container-id-2 div.sk-parallel-item:last-child::after {align-self: flex-start;width: 50%;}#sk-container-id-2 div.sk-parallel-item:only-child::after {width: 0;}#sk-container-id-2 div.sk-dashed-wrapped {border: 1px dashed gray;margin: 0 0.4em 0.5em 0.4em;box-sizing: border-box;padding-bottom: 0.4em;background-color: white;}#sk-container-id-2 div.sk-label label {font-family: monospace;font-weight: bold;display: inline-block;line-height: 1.2em;}#sk-container-id-2 div.sk-label-container {text-align: center;}#sk-container-id-2 div.sk-container {/* jupyter's `normalize.less` sets `[hidden] { display: none; }` but bootstrap.min.css set `[hidden] { display: none !important; }` so we also need the `!important` here to be able to override the default hidden behavior on the sphinx rendered scikit-learn.org. See: https://github.com/scikit-learn/scikit-learn/issues/21755 */display: inline-block !important;position: relative;}#sk-container-id-2 div.sk-text-repr-fallback {display: none;}</style><div id=\"sk-container-id-2\" class=\"sk-top-container\"><div class=\"sk-text-repr-fallback\"><pre>GridSearchCV(cv=5, estimator=DecisionTreeRegressor(random_state=42), n_jobs=-1,\n",
       "             param_grid={&#x27;max_depth&#x27;: [None, 5, 10, 15, 20],\n",
       "                         &#x27;max_features&#x27;: [&#x27;auto&#x27;, &#x27;sqrt&#x27;, &#x27;log2&#x27;, None],\n",
       "                         &#x27;min_samples_leaf&#x27;: [1, 3, 5, 10],\n",
       "                         &#x27;min_samples_split&#x27;: [2, 5, 10, 20]},\n",
       "             scoring=&#x27;neg_mean_squared_error&#x27;, verbose=2)</pre><b>In a Jupyter environment, please rerun this cell to show the HTML representation or trust the notebook. <br />On GitHub, the HTML representation is unable to render, please try loading this page with nbviewer.org.</b></div><div class=\"sk-container\" hidden><div class=\"sk-item sk-dashed-wrapped\"><div class=\"sk-label-container\"><div class=\"sk-label sk-toggleable\"><input class=\"sk-toggleable__control sk-hidden--visually\" id=\"sk-estimator-id-2\" type=\"checkbox\" ><label for=\"sk-estimator-id-2\" class=\"sk-toggleable__label sk-toggleable__label-arrow\">GridSearchCV</label><div class=\"sk-toggleable__content\"><pre>GridSearchCV(cv=5, estimator=DecisionTreeRegressor(random_state=42), n_jobs=-1,\n",
       "             param_grid={&#x27;max_depth&#x27;: [None, 5, 10, 15, 20],\n",
       "                         &#x27;max_features&#x27;: [&#x27;auto&#x27;, &#x27;sqrt&#x27;, &#x27;log2&#x27;, None],\n",
       "                         &#x27;min_samples_leaf&#x27;: [1, 3, 5, 10],\n",
       "                         &#x27;min_samples_split&#x27;: [2, 5, 10, 20]},\n",
       "             scoring=&#x27;neg_mean_squared_error&#x27;, verbose=2)</pre></div></div></div><div class=\"sk-parallel\"><div class=\"sk-parallel-item\"><div class=\"sk-item\"><div class=\"sk-label-container\"><div class=\"sk-label sk-toggleable\"><input class=\"sk-toggleable__control sk-hidden--visually\" id=\"sk-estimator-id-3\" type=\"checkbox\" ><label for=\"sk-estimator-id-3\" class=\"sk-toggleable__label sk-toggleable__label-arrow\">estimator: DecisionTreeRegressor</label><div class=\"sk-toggleable__content\"><pre>DecisionTreeRegressor(random_state=42)</pre></div></div></div><div class=\"sk-serial\"><div class=\"sk-item\"><div class=\"sk-estimator sk-toggleable\"><input class=\"sk-toggleable__control sk-hidden--visually\" id=\"sk-estimator-id-4\" type=\"checkbox\" ><label for=\"sk-estimator-id-4\" class=\"sk-toggleable__label sk-toggleable__label-arrow\">DecisionTreeRegressor</label><div class=\"sk-toggleable__content\"><pre>DecisionTreeRegressor(random_state=42)</pre></div></div></div></div></div></div></div></div></div></div>"
      ],
      "text/plain": [
       "GridSearchCV(cv=5, estimator=DecisionTreeRegressor(random_state=42), n_jobs=-1,\n",
       "             param_grid={'max_depth': [None, 5, 10, 15, 20],\n",
       "                         'max_features': ['auto', 'sqrt', 'log2', None],\n",
       "                         'min_samples_leaf': [1, 3, 5, 10],\n",
       "                         'min_samples_split': [2, 5, 10, 20]},\n",
       "             scoring='neg_mean_squared_error', verbose=2)"
      ]
     },
     "execution_count": 27,
     "metadata": {},
     "output_type": "execute_result"
    }
   ],
   "source": [
    "grid_search.fit(X_train, y_train)"
   ]
  },
  {
   "cell_type": "code",
   "execution_count": 28,
   "id": "234cf495",
   "metadata": {
    "execution": {
     "iopub.execute_input": "2025-05-03T15:04:12.561626Z",
     "iopub.status.busy": "2025-05-03T15:04:12.561188Z",
     "iopub.status.idle": "2025-05-03T15:04:12.566702Z",
     "shell.execute_reply": "2025-05-03T15:04:12.565655Z"
    },
    "papermill": {
     "duration": 0.01674,
     "end_time": "2025-05-03T15:04:12.568254",
     "exception": false,
     "start_time": "2025-05-03T15:04:12.551514",
     "status": "completed"
    },
    "tags": []
   },
   "outputs": [
    {
     "name": "stdout",
     "output_type": "stream",
     "text": [
      "Best Hyperparameters: {'max_depth': None, 'max_features': 'auto', 'min_samples_leaf': 1, 'min_samples_split': 10}\n"
     ]
    }
   ],
   "source": [
    "print(\"Best Hyperparameters:\", grid_search.best_params_)"
   ]
  },
  {
   "cell_type": "code",
   "execution_count": 29,
   "id": "a9ea4c21",
   "metadata": {
    "execution": {
     "iopub.execute_input": "2025-05-03T15:04:12.587222Z",
     "iopub.status.busy": "2025-05-03T15:04:12.586877Z",
     "iopub.status.idle": "2025-05-03T15:04:12.591721Z",
     "shell.execute_reply": "2025-05-03T15:04:12.590562Z"
    },
    "papermill": {
     "duration": 0.016046,
     "end_time": "2025-05-03T15:04:12.593446",
     "exception": false,
     "start_time": "2025-05-03T15:04:12.577400",
     "status": "completed"
    },
    "tags": []
   },
   "outputs": [
    {
     "name": "stdout",
     "output_type": "stream",
     "text": [
      "Best Score: -1770726204.4919262\n"
     ]
    }
   ],
   "source": [
    "print(\"Best Score:\", grid_search.best_score_)"
   ]
  },
  {
   "cell_type": "code",
   "execution_count": 30,
   "id": "78166c07",
   "metadata": {
    "execution": {
     "iopub.execute_input": "2025-05-03T15:04:12.613458Z",
     "iopub.status.busy": "2025-05-03T15:04:12.613056Z",
     "iopub.status.idle": "2025-05-03T15:04:12.617123Z",
     "shell.execute_reply": "2025-05-03T15:04:12.616114Z"
    },
    "papermill": {
     "duration": 0.01614,
     "end_time": "2025-05-03T15:04:12.618818",
     "exception": false,
     "start_time": "2025-05-03T15:04:12.602678",
     "status": "completed"
    },
    "tags": []
   },
   "outputs": [],
   "source": [
    "best_model = grid_search.best_estimator_"
   ]
  },
  {
   "cell_type": "code",
   "execution_count": 31,
   "id": "de26bf59",
   "metadata": {
    "execution": {
     "iopub.execute_input": "2025-05-03T15:04:12.638626Z",
     "iopub.status.busy": "2025-05-03T15:04:12.638192Z",
     "iopub.status.idle": "2025-05-03T15:04:12.648822Z",
     "shell.execute_reply": "2025-05-03T15:04:12.647720Z"
    },
    "papermill": {
     "duration": 0.022695,
     "end_time": "2025-05-03T15:04:12.650713",
     "exception": false,
     "start_time": "2025-05-03T15:04:12.628018",
     "status": "completed"
    },
    "tags": []
   },
   "outputs": [
    {
     "name": "stdout",
     "output_type": "stream",
     "text": [
      "Performance on Test Set (Best Model):\n",
      "Mean Squared Error: 2157101966.741212\n",
      "Mean Absolute Error: 28862.319156966492\n",
      "R-squared: 0.7170942124981097\n"
     ]
    }
   ],
   "source": [
    "predictions = best_model.predict(X_test)\n",
    "mse = mean_squared_error(y_test, predictions)\n",
    "mae = mean_absolute_error(y_test, predictions)\n",
    "r2 = r2_score(y_test, predictions)\n",
    "\n",
    "print(\"Performance on Test Set (Best Model):\")\n",
    "print(f\"Mean Squared Error: {mse}\")\n",
    "print(f\"Mean Absolute Error: {mae}\")\n",
    "print(f\"R-squared: {r2}\")"
   ]
  },
  {
   "cell_type": "code",
   "execution_count": 32,
   "id": "87741ff8",
   "metadata": {
    "execution": {
     "iopub.execute_input": "2025-05-03T15:04:12.670821Z",
     "iopub.status.busy": "2025-05-03T15:04:12.670484Z",
     "iopub.status.idle": "2025-05-03T15:04:12.675804Z",
     "shell.execute_reply": "2025-05-03T15:04:12.674623Z"
    },
    "papermill": {
     "duration": 0.017188,
     "end_time": "2025-05-03T15:04:12.677393",
     "exception": false,
     "start_time": "2025-05-03T15:04:12.660205",
     "status": "completed"
    },
    "tags": []
   },
   "outputs": [
    {
     "name": "stdout",
     "output_type": "stream",
     "text": [
      "46444.6118160246\n"
     ]
    }
   ],
   "source": [
    "print(np.sqrt(mse))"
   ]
  },
  {
   "cell_type": "code",
   "execution_count": 33,
   "id": "76184d89",
   "metadata": {
    "execution": {
     "iopub.execute_input": "2025-05-03T15:04:12.696636Z",
     "iopub.status.busy": "2025-05-03T15:04:12.696224Z",
     "iopub.status.idle": "2025-05-03T15:04:12.699975Z",
     "shell.execute_reply": "2025-05-03T15:04:12.699144Z"
    },
    "papermill": {
     "duration": 0.015009,
     "end_time": "2025-05-03T15:04:12.701536",
     "exception": false,
     "start_time": "2025-05-03T15:04:12.686527",
     "status": "completed"
    },
    "tags": []
   },
   "outputs": [],
   "source": [
    "# With GridSearch, I've gotten my MSE down to £46,444 from £50k and my MAE is now £28k down from £30k."
   ]
  }
 ],
 "metadata": {
  "kaggle": {
   "accelerator": "none",
   "dataSources": [
    {
     "databundleVersionId": 111096,
     "sourceId": 10211,
     "sourceType": "competition"
    }
   ],
   "dockerImageVersionId": 30839,
   "isGpuEnabled": false,
   "isInternetEnabled": false,
   "language": "python",
   "sourceType": "notebook"
  },
  "kernelspec": {
   "display_name": "Python 3",
   "language": "python",
   "name": "python3"
  },
  "language_info": {
   "codemirror_mode": {
    "name": "ipython",
    "version": 3
   },
   "file_extension": ".py",
   "mimetype": "text/x-python",
   "name": "python",
   "nbconvert_exporter": "python",
   "pygments_lexer": "ipython3",
   "version": "3.10.12"
  },
  "papermill": {
   "default_parameters": {},
   "duration": 14.679588,
   "end_time": "2025-05-03T15:04:13.533055",
   "environment_variables": {},
   "exception": null,
   "input_path": "__notebook__.ipynb",
   "output_path": "__notebook__.ipynb",
   "parameters": {},
   "start_time": "2025-05-03T15:03:58.853467",
   "version": "2.6.0"
  }
 },
 "nbformat": 4,
 "nbformat_minor": 5
}
